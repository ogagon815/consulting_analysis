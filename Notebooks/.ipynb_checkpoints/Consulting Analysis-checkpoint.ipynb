{
 "cells": [
  {
   "cell_type": "code",
   "execution_count": null,
   "metadata": {},
   "outputs": [],
   "source": [
    "#Header"
   ]
  },
  {
   "cell_type": "code",
   "execution_count": null,
   "metadata": {},
   "outputs": [],
   "source": [
    "import pandas as pd\n",
    "\n",
    "df_contracts = pd.read_csv('../data/contracts.csv')\n",
    "df_customers = pd.read_csv('../data/customers.csv')\n",
    "df_customers.rename(columns={'id': 'customer_id'}, inplace=True)\n",
    "df_customers.set_index('customer_id', inplace=True)\n",
    "df_contracts = df_contracts.set_index('customer_id')\n",
    "\n",
    "df = df_contracts.join(df_customers, how='left')\n",
    "df.head(25)"
   ]
  },
  {
   "cell_type": "code",
   "execution_count": null,
   "metadata": {},
   "outputs": [],
   "source": [
    "# pivot and sort\n",
    "df.groupby('state').agg({'contract_id':'count', 'compnay' :pd.Series.nunique}).sort_values(\n",
    "                                                                                    'compnay', ascending=False)"
   ]
  },
  {
   "cell_type": "code",
   "execution_count": null,
   "metadata": {},
   "outputs": [],
   "source": [
    "df['sector'] = df['sector'].fillna('')\n",
    "df.loc[df['contract_term'] < 2]"
   ]
  },
  {
   "cell_type": "code",
   "execution_count": null,
   "metadata": {},
   "outputs": [],
   "source": [
    "#filter and pinpoint\n",
    "list(df.loc[df['state'] == 'FL', 'company'].unique())"
   ]
  },
  {
   "cell_type": "code",
   "execution_count": null,
   "metadata": {},
   "outputs": [],
   "source": [
    "#filter\n",
    "df.loc[df['contract_term'] < 2]"
   ]
  },
  {
   "cell_type": "code",
   "execution_count": null,
   "metadata": {
    "scrolled": true
   },
   "outputs": [],
   "source": [
    "import re\n",
    "for each in ['deposit', 'monthly_amt']:\n",
    "    df.loc[:, each] =pd.to_numeric([re.sub('[^0-9.]', '', str(s)) for s in df[each]])\n",
    "\n",
    "df"
   ]
  },
  {
   "cell_type": "code",
   "execution_count": null,
   "metadata": {},
   "outputs": [],
   "source": [
    "df['contract_amount'] = df['deposit'] + (df['contract_term'] * df['monthly_amt'])\n",
    "df.head()"
   ]
  },
  {
   "cell_type": "code",
   "execution_count": null,
   "metadata": {},
   "outputs": [],
   "source": []
  }
 ],
 "metadata": {
  "kernelspec": {
   "display_name": "Python 3",
   "language": "python",
   "name": "python3"
  },
  "language_info": {
   "codemirror_mode": {
    "name": "ipython",
    "version": 3
   },
   "file_extension": ".py",
   "mimetype": "text/x-python",
   "name": "python",
   "nbconvert_exporter": "python",
   "pygments_lexer": "ipython3",
   "version": "3.8.3"
  }
 },
 "nbformat": 4,
 "nbformat_minor": 4
}
